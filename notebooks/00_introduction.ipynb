{
 "cells": [
  {
   "cell_type": "markdown",
   "metadata": {
    "slideshow": {
     "slide_type": "slide"
    }
   },
   "source": [
    "# Python: Einführung & Allgemeines"
   ]
  },
  {
   "cell_type": "markdown",
   "metadata": {
    "slideshow": {
     "slide_type": "subslide"
    }
   },
   "source": [
    "## Warum Python?\n",
    "\n",
    "- Einfache Syntax, Fokus auf schnellem Entwickeln, super um \"mal schnell was auszuprobieren\"\n",
    "- lt. TIOBE-Index aktuell die beliebteste Programmiersprache\n",
    "- Plattformunabhängig, unter Linux meist vorinstalliert\n",
    "- Großes Ökosystem an Libraries, die sich schnell installieren & nutzen lassen"
   ]
  },
  {
   "cell_type": "markdown",
   "metadata": {
    "slideshow": {
     "slide_type": "subslide"
    }
   },
   "source": [
    "## Python per CLI nutzen\n",
    "\n",
    "- Mit Installation wird mitgeliefert\n",
    "    - Interaktiver Interpreter: `python`; super als \"erweiterter Taschenrechner\"\n",
    "    - Paketmanager `pip`\n",
    "- Pythonskripte lassen sich direkt ausführen, da Python interpretierte Programmiersprache\n",
    "    - `python <foo.py>`"
   ]
  },
  {
   "cell_type": "markdown",
   "metadata": {
    "slideshow": {
     "slide_type": "subslide"
    }
   },
   "source": [
    "## Pythons Paketmanager: `pip`\n",
    "\n",
    "- Pythons Paketmanager\n",
    "- Wichtige Befehle:\n",
    "    - `pip install <Paketname>`\n",
    "    - `pip install -r requirements.txt`\n",
    "    - `pip freeze > requirements.txt`\n",
    "- Abhängigkeiten können für kleine Projekte in einer requirements.txt gemanaged werden\n",
    "- Um Konflikte innerhalb mehrerer Projekte zu vermeiden: `Virtual Environments`"
   ]
  },
  {
   "cell_type": "markdown",
   "metadata": {
    "slideshow": {
     "slide_type": "subslide"
    }
   },
   "source": [
    "## Virtual Environments\n",
    "\n",
    "- Isolierte Python-Installation\n",
    "- 1000 Wege um Virtual Environments anzulegen/zu verwalten -> Für kleine Projekte: `venv`\n"
   ]
  },
  {
   "cell_type": "markdown",
   "metadata": {
    "slideshow": {
     "slide_type": "subslide"
    }
   },
   "source": [
    "### Virtual Environment mit `venv` anlegen\n",
    "\n",
    "   1. Virtual Environment anlegen: `python -m venv .venv/`\n",
    "   2. Virtual Environment aktivieren:\n",
    "      1. `.venv/Scripts/activate` (Windows-Kommandozeile)\n",
    "      2. `source .venv/Scripts/activate` (Git-bash o.ä. Bash-Kommandozeilen)\n",
    "   3. Überprüfen ob Virtual Environment korrekt aktiviert wurde\n",
    "      1. `where python` -> Ausgabe sollte Pfad zum Interpreter in `.venv/..` zeigen\n",
    "    4. Paketabhängigkeiten installieren\n",
    "      - `pip install -r requirements.txt`"
   ]
  }
 ],
 "metadata": {
  "celltoolbar": "Slideshow",
  "kernelspec": {
   "display_name": "Python 3 (ipykernel)",
   "language": "python",
   "name": "python3"
  },
  "language_info": {
   "codemirror_mode": {
    "name": "ipython",
    "version": 3
   },
   "file_extension": ".py",
   "mimetype": "text/x-python",
   "name": "python",
   "nbconvert_exporter": "python",
   "pygments_lexer": "ipython3",
   "version": "3.11.0"
  },
  "vscode": {
   "interpreter": {
    "hash": "95b485297b53e9198539d3149b1263fa4116de0441108e5ccef43d18e05b9686"
   }
  }
 },
 "nbformat": 4,
 "nbformat_minor": 2
}
