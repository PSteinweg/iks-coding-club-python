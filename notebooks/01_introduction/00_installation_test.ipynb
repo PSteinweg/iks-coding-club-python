{
 "cells": [
  {
   "cell_type": "markdown",
   "metadata": {},
   "source": [
    "# Test der Installation\n",
    "\n",
    "Dieses Notebook dient zum Testen der für den Coding-Club benötigten Abhängigkeiten.\n",
    "\n",
    "Bitte führt einmal die Code-Zellen aus (Shortcut: STRG+Enter) - bei erfolgreicher Installation sollte der Import der Abhängigkeiten ohne Fehler laufen"
   ]
  },
  {
   "cell_type": "code",
   "execution_count": 2,
   "metadata": {},
   "outputs": [
    {
     "name": "stdout",
     "output_type": "stream",
     "text": [
      "Version pandas:  1.5.1\n",
      "Version seaborn:  0.12.1\n"
     ]
    }
   ],
   "source": [
    "import pandas as pd\n",
    "import seaborn as sns\n",
    "\n",
    "print(\"Version pandas: \" ,pd.__version__)\n",
    "print(\"Version seaborn: \", sns.__version__)"
   ]
  },
  {
   "cell_type": "markdown",
   "metadata": {},
   "source": []
  }
 ],
 "metadata": {
  "kernelspec": {
   "display_name": "Python 3.11.0 ('.venv': venv)",
   "language": "python",
   "name": "python3"
  },
  "language_info": {
   "codemirror_mode": {
    "name": "ipython",
    "version": 3
   },
   "file_extension": ".py",
   "mimetype": "text/x-python",
   "name": "python",
   "nbconvert_exporter": "python",
   "pygments_lexer": "ipython3",
   "version": "3.9.1"
  },
  "orig_nbformat": 4,
  "vscode": {
   "interpreter": {
    "hash": "95b485297b53e9198539d3149b1263fa4116de0441108e5ccef43d18e05b9686"
   }
  }
 },
 "nbformat": 4,
 "nbformat_minor": 2
}
