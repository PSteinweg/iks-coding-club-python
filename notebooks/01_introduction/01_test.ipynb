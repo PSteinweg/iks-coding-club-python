{
 "cells": [
  {
   "cell_type": "markdown",
   "metadata": {},
   "source": [
    "- [1. Whetting Your Appetite](https://docs.python.org/3/tutorial/appetite.html)\n",
    "- [2. Using the Interpreter](https://docs.python.org/3/tutorial/interpreter.html)\n",
    "- [3. An Informal Introduction to Python](https://docs.python.org/3/tutorial/introduction.html)\n",
    "- [4. More Control Flow Tools](https://docs.python.org/3/tutorial/controlflow.html)\n",
    "- [5. Data Structures](https://docs.python.org/3/tutorial/datastructures.html)\n",
    "- [6. Modules](https://docs.python.org/3/tutorial/modules.html)\n",
    "- [7. Input and Output](https://docs.python.org/3/tutorial/inputoutput.html)"
   ]
  },
  {
   "cell_type": "code",
   "execution_count": null,
   "metadata": {},
   "outputs": [
    {
     "ename": "",
     "evalue": "",
     "output_type": "error",
     "traceback": [
      "\u001b[1;31mDas Ausführen von Zellen mit „Python 3.11.0 64-bit“ erfordert das ipykernel-Paket.\n",
      "\u001b[1;31mFühren Sie den folgenden Befehl aus, um „ipykernel“ in der Python-Umgebung zu installieren. \n",
      "\u001b[1;31mBefehl: „c:/Users/pst/AppData/Local/Programs/Python/Python311/python.exe -m pip install ipykernel -U --user --force-reinstall“"
     ]
    }
   ],
   "source": [
    "import pandas as pd\n",
    "import seaborn as sns\n",
    "\n",
    "print(pd.__version__)\n",
    "print(sns.__version__)"
   ]
  },
  {
   "cell_type": "markdown",
   "metadata": {},
   "source": []
  }
 ],
 "metadata": {
  "kernelspec": {
   "display_name": "Python 3 (ipykernel)",
   "language": "python",
   "name": "python3"
  },
  "language_info": {
   "codemirror_mode": {
    "name": "ipython",
    "version": 3
   },
   "file_extension": ".py",
   "mimetype": "text/x-python",
   "name": "python",
   "nbconvert_exporter": "python",
   "pygments_lexer": "ipython3",
   "version": "3.9.1"
  },
  "vscode": {
   "interpreter": {
    "hash": "9050bf59e584105ae3b26823cea60dc68712cac9482890ede5d0274ad40a31b7"
   }
  }
 },
 "nbformat": 4,
 "nbformat_minor": 2
}
