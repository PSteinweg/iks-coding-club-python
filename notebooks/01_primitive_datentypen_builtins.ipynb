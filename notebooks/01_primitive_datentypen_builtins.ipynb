{
 "cells": [
  {
   "cell_type": "markdown",
   "metadata": {},
   "source": [
    "## 01 - Primitive Datentypen, Builtins"
   ]
  },
  {
   "cell_type": "markdown",
   "metadata": {},
   "source": [
    "### Primitive Datentypen in Python\n",
    "\n",
    "- In Python folgende primitive Datentypen \n",
    "  - `int`: Ganzzahlen (beliebiger Größe)\n",
    "  - `float`: Fließkommazahlen\n",
    "  - `complex`: Für komplexe Zahlen\n",
    "  - `str`: Strings\n",
    "  - `None`: Nulltyp\n",
    "\n",
    "- Zusätzlich in der Standardbibliothek: `Decimal` und `Fraction`"
   ]
  },
  {
   "cell_type": "markdown",
   "metadata": {},
   "source": [
    "#### Zahlen: `int`, `float`, `complex`"
   ]
  },
  {
   "cell_type": "code",
   "execution_count": 5,
   "metadata": {},
   "outputs": [
    {
     "name": "stdout",
     "output_type": "stream",
     "text": [
      "5 <class 'int'>\n",
      "100000000000000000000 <class 'int'>\n",
      "1000000 <class 'int'>\n"
     ]
    }
   ],
   "source": [
    "simple_int = 5\n",
    "large_int = int(1E20)\n",
    "int_with_thousand_separator = 1_000_000\n",
    "print(simple_int, type(simple_int))\n",
    "print(large_int, type(large_int))\n",
    "print(int_with_thousand_separator, type(int_with_thousand_separator))"
   ]
  },
  {
   "cell_type": "code",
   "execution_count": 1,
   "metadata": {},
   "outputs": [
    {
     "name": "stdout",
     "output_type": "stream",
     "text": [
      "5.0 <class 'float'>\n",
      "5000000000000.0 <class 'float'>\n"
     ]
    }
   ],
   "source": [
    "simple_float = 5.0\n",
    "float_in_scientific_notation = 5E12\n",
    "print(simple_float, type(simple_float))\n",
    "print(float_in_scientific_notation, type(float_in_scientific_notation))"
   ]
  },
  {
   "cell_type": "markdown",
   "metadata": {},
   "source": [
    "#### Number Prefixes\n",
    "\n",
    "- Syntactic Sugar um Zahlen in anderen Zahlensystemen zu initialisieren\n",
    "  - `0b`: Zahl wird als Binary interpretiert & konvertiert\n",
    "  - `0o`: Zahl wird im Oktalsystem interpretiert & konvertiert\n",
    "  - `0x`: Zahl wird im Hexadezimalsystem interpretiert & konvertiert"
   ]
  },
  {
   "cell_type": "code",
   "execution_count": 6,
   "metadata": {},
   "outputs": [
    {
     "name": "stdout",
     "output_type": "stream",
     "text": [
      "42 <class 'int'>\n",
      "42 <class 'int'>\n",
      "42 <class 'int'>\n",
      "0x2a <class 'str'>\n",
      "0o52 <class 'str'>\n",
      "0b101010 <class 'str'>\n"
     ]
    }
   ],
   "source": [
    "forty_two_in_binary = 0b101010\n",
    "forty_two_in_octal = 0o52\n",
    "forty_two_in_hex = 0x2A\n",
    "\n",
    "\n",
    "print(forty_two_in_binary, type(forty_two_in_binary))\n",
    "print(forty_two_in_octal, type(forty_two_in_octal))\n",
    "print(forty_two_in_hex, type(forty_two_in_hex))\n",
    "\n",
    "print(hex(42), type(hex(42)))\n",
    "print(oct(42), type(oct(42)))\n",
    "print(bin(42), type(bin(42)))"
   ]
  },
  {
   "cell_type": "markdown",
   "metadata": {},
   "source": [
    "#### Strings\n",
    "\n",
    "\n",
    "- Strings unterstützen Unicode\n",
    "- Strings können mehrere Zeilen umfassen (sog. Multiline-Strings)\n",
    "- Strings können mit sog. Format-Strings formatiert werden\n",
    "- Strings können wahlweise mit '' oder \"\" erzeugt werden\n",
    "- Strings unterstützen zusätzlich den `in`-Operator, den alle Sequenztypen (`list`, `tuple`, `set` unterstützen)"
   ]
  },
  {
   "cell_type": "markdown",
   "metadata": {},
   "source": [
    "#### Unicode-Support\n",
    "\n",
    "- Emojis und co. in Python? Kein Problem"
   ]
  },
  {
   "cell_type": "code",
   "execution_count": 53,
   "metadata": {},
   "outputs": [
    {
     "name": "stdout",
     "output_type": "stream",
     "text": [
      "OMG! 🙀\n",
      "True\n"
     ]
    }
   ],
   "source": [
    "print(\"OMG! 🙀\")\n",
    "\n",
    "print(\"🙀\" in \"OMG! 🙀\")"
   ]
  },
  {
   "cell_type": "markdown",
   "metadata": {},
   "source": [
    "#### Multiline-Strings\n",
    "\n",
    "Mit dreifachen Anführungszeichen können in Python sog. Multiline-Strings erzeugt werden, die mehrere Zeilen umfassen können"
   ]
  },
  {
   "cell_type": "code",
   "execution_count": null,
   "metadata": {},
   "outputs": [],
   "source": [
    "lorem_ipsum = \"\"\"Lorem ipsum dolor sit amet, consetetur sadipscing elitr, \n",
    "sed diam nonumy eirmod tempor invidunt ut labore et dolore magna aliquyam erat, sed diam voluptua. \n",
    "At vero eos et accusam et justo duo dolores et ea rebum. \n",
    "Stet clita kasd gubergren, no sea takimata sanctus est Lorem ipsum dolor sit amet. \n",
    "Lorem ipsum dolor sit amet, consetetur sadipscing elitr, sed diam nonumy eirmod tempor invidunt ut labore et dolore magna aliquyam erat, sed diam voluptua. \n",
    "At vero eos et accusam et justo duo dolores et ea rebum. Stet clita kasd gubergren, no sea takimata sanctus est Lorem ipsum dolor sit amet.\"\"\""
   ]
  },
  {
   "cell_type": "markdown",
   "metadata": {},
   "source": [
    "#### String-Prefixes\n",
    "\n",
    "- Strings in Python können in Python mit sogenannten String-Prefixes versehen werden\n",
    "    - `r\"C:\\Users\\pst\"`: roher String (nützlich z.B. für Pfade oder Regex, da Escape-Sequenzen ignoriert werden)\n",
    "    - `f\"2 + 2 is {2+2}\"`: f-Strings oder Format-Strings, Möglichkeit Strings mit Ergebnissen aus Ausdrücken usw. zu interpolieren\n",
    "    - `b\"a string\"`: String im binary-Format"
   ]
  },
  {
   "cell_type": "markdown",
   "metadata": {},
   "source": [
    "#### Format-Strings"
   ]
  },
  {
   "cell_type": "code",
   "execution_count": 10,
   "metadata": {},
   "outputs": [
    {
     "name": "stdout",
     "output_type": "stream",
     "text": [
      "Hello, Philipp. Your name is 7 letters long.\n"
     ]
    }
   ],
   "source": [
    "first_name = \"Philipp\"\n",
    "example_format_string = f\"Hello, {first_name}. Your name is {len(first_name)} letters long.\"\n",
    "\n",
    "print(example_format_string)"
   ]
  },
  {
   "cell_type": "markdown",
   "metadata": {},
   "source": [
    "### Fingerübungen: Primitive Datentypen\n",
    "\n",
    "1. Initialisiert folgende Zahlen in einer Variable und lasst euch Wert & Datentyp ausgeben:\n",
    "  - 2^10\n",
    "  - 0xFFFFFF\n",
    "\n"
   ]
  },
  {
   "cell_type": "markdown",
   "metadata": {},
   "source": [
    "### Builtins\n",
    "\n",
    "Der Python-Interpreter bringt eine Reihe von built-in-Funktionen mit, die mit Start des Interpreters ohne weitere Imports verfügbar sind.\n",
    "\n",
    "- Diese Funktionen lassen sich einfach über den Funktionsnamen aufrufen und erfüllen diverse Aufgaben:\n",
    "    - Typ-Konversionen, z.B.: `str()`, `repr()`, `int()`, `hex()`, `set()`, `list()`\n",
    "    - Objekt-Informationen, z.B.: `dir()`, `getattr()`, `type()`, `isinstance()`\n",
    "    - Umgang mit Iteratoren/Sequences: `map()`, `filter()`, `zip()`\n",
    "    - Sonstiges: `print()`, `all()/any()`, `open()`, \n",
    "\n",
    "![](../../assets/images/02_overview_builtins.PNG)"
   ]
  },
  {
   "cell_type": "markdown",
   "metadata": {},
   "source": [
    "## Fingerübungen: Builtins\n",
    "\n",
    "- Die Funktion `dir()` gibt alle verfügbaren Attribute eines übergebenen Objekts zurück. \n",
    "  1. Nutzt `dir()` um euch alle verfügbaren Attribute eines beliebigen Strings auszugeben\n",
    "  2. Was denkt ihr: Warum sind einige Attribute von \"__\" umschlossen (z.B. `__add__`)?\n",
    "\n",
    "- Lasst euch mit ` range.__doc__`die Dokumentation des builtins `range()` ausgeben \n",
    "  - Erzeugt anschließend mithilfe von `list()` und `range()` folgende Zahlenreihen:\n",
    "    - Zahlen von 0-10 ([0,1,...9])\n",
    "    - Zahlen von -128-128 ([-128,,1,...9])\n",
    "    - Alle Zahlen von 0-100 in 5er-Sprüngen ([0,5,10,...,95])\n",
    "    - Bonus: Die Zahlen von 0x00 - 0xFF (Tipp: int-Prefixes)\n",
    "\n",
    "- Vervollständigt folgendes Snippet um die Datei `lorem_ipsum.txt` im Ordner einzulesen und auf der Ausgabe auszugeben\n",
    "\n",
    "```\n",
    "with ___(lorem_ipsum.txt,_) as file:\n",
    "  print(file.___)\n",
    "```\n",
    "\n",
    "- Bonus: \n",
    "  - Schreibt die Zahlen von 0-10000 in eine Datei namens `10000.txt`\n",
    "    - Tipp: mit `\",\".join(<list>)` könnt ihr die Zahlen mit Kommata oder anderen Zeichen trennen\n",
    "  - Lest euch hierfür vorab die Dokumentation von `open()` durch um den passenden `mode` fürs Schreiben herauszufinden\n",
    "\n"
   ]
  }
 ],
 "metadata": {
  "kernelspec": {
   "display_name": "Python 3.11.0 ('.venv': pipenv)",
   "language": "python",
   "name": "python3"
  },
  "language_info": {
   "codemirror_mode": {
    "name": "ipython",
    "version": 3
   },
   "file_extension": ".py",
   "mimetype": "text/x-python",
   "name": "python",
   "nbconvert_exporter": "python",
   "pygments_lexer": "ipython3",
   "version": "3.11.0"
  },
  "orig_nbformat": 4,
  "vscode": {
   "interpreter": {
    "hash": "95b485297b53e9198539d3149b1263fa4116de0441108e5ccef43d18e05b9686"
   }
  }
 },
 "nbformat": 4,
 "nbformat_minor": 2
}
