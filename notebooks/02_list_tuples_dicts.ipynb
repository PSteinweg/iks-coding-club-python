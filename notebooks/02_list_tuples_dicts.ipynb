{
 "cells": [
  {
   "cell_type": "markdown",
   "metadata": {},
   "source": [
    "## 02 - `list`, `tuple`, `dict`\n",
    "\n",
    "- Python bringt folgende Datenstrukturen mit:\n",
    "  - `list`: Listen (vgl. mit Arrays)\n",
    "  - `tuple`: N-Tupel\n",
    "  - `set`: \"Mengen\" (Jedes Element in einem Set ist einzigartig)\n",
    "  - `dict`: key-Value-Mapping (Vgl. mit JSON)\n"
   ]
  },
  {
   "cell_type": "markdown",
   "metadata": {},
   "source": [
    "## Listen: `list`\n",
    "\n",
    "- Datentyp für heterogene Listen variabler Länge\n",
    "- \"Bread-n-Butter\"-Datenstruktur"
   ]
  },
  {
   "cell_type": "markdown",
   "metadata": {},
   "source": [
    "### Listen erzeugen"
   ]
  },
  {
   "cell_type": "code",
   "execution_count": 12,
   "metadata": {},
   "outputs": [],
   "source": [
    "fruits = [\"Apple\",\"Banana\",\"Mango\",\"Kiwi\",\"Lemon\",\"Raspberry\",\"Strawberry\",\"Blueberry\"]\n",
    "vegetables = [\"Cucumber\", \"Tomato\", \"Carrot\", \"Potato\", \"Avocado\"]\n",
    "mixed_list = [\"Foo\",\"Bar\", 2, 2.4, [1,2,3]]"
   ]
  },
  {
   "cell_type": "markdown",
   "metadata": {},
   "source": [
    "## Auf Listenelemente zugreifen\n",
    "\n",
    "- Zugriff auf einzelne Elemente mit [], z.B. fruits[0]\n",
    "- Negativer Index ebenfalls möglich; Von hinten wird beginnend mit -1 gezählt, z.B. letztes Element fruits[-1]\n",
    "\n",
    "### __Slicing__\n",
    "  - Spezielle Notation um Teile auf Teile einer Liste zuzugreifen\n",
    "  - Notation [start:stop:step]"
   ]
  },
  {
   "cell_type": "markdown",
   "metadata": {},
   "source": [
    "### Listen iterieren"
   ]
  },
  {
   "cell_type": "code",
   "execution_count": 8,
   "metadata": {},
   "outputs": [
    {
     "name": "stdout",
     "output_type": "stream",
     "text": [
      "Apple\n",
      "Banana\n",
      "Mango\n",
      "Kiwi\n",
      "Lemon\n"
     ]
    }
   ],
   "source": [
    "for fruit in fruits:\n",
    "    print(fruit)"
   ]
  },
  {
   "cell_type": "code",
   "execution_count": 9,
   "metadata": {},
   "outputs": [
    {
     "name": "stdout",
     "output_type": "stream",
     "text": [
      "Item at index 0: Cucumber\n",
      "Item at index 1: Tomato\n",
      "Item at index 2: Carrot\n",
      "Item at index 3: Potato\n",
      "Item at index 4: Avocado\n"
     ]
    }
   ],
   "source": [
    "for index, vegetables in enumerate(vegetables):\n",
    "    print(f\"Item at index {index}: {vegetables}\")"
   ]
  },
  {
   "cell_type": "code",
   "execution_count": 10,
   "metadata": {},
   "outputs": [
    {
     "name": "stdout",
     "output_type": "stream",
     "text": [
      "Item: Foo, Type: <class 'str'>\n",
      "Item: Bar, Type: <class 'str'>\n",
      "Item: 2, Type: <class 'int'>\n",
      "Item: 2.4, Type: <class 'float'>\n",
      "Item: [1, 2, 3], Type: <class 'list'>\n"
     ]
    }
   ],
   "source": [
    "for item in mixed_list:\n",
    "    print(f\"Item: {item}, Type: {type(item)}\")"
   ]
  },
  {
   "cell_type": "markdown",
   "metadata": {},
   "source": [
    "#### List Comprehension\n",
    "\n",
    "- Syntactic Sugar um Listen zu erzeugen"
   ]
  },
  {
   "cell_type": "code",
   "execution_count": 13,
   "metadata": {},
   "outputs": [
    {
     "name": "stdout",
     "output_type": "stream",
     "text": [
      "['Raspberry', 'Strawberry', 'Blueberry']\n"
     ]
    }
   ],
   "source": [
    "berries = [fruit for fruit in fruits if fruit.endswith(\"berry\")]\n",
    "print(berries)"
   ]
  },
  {
   "cell_type": "markdown",
   "metadata": {},
   "source": [
    "#### Weitere verfügbare Listenmethoden"
   ]
  },
  {
   "cell_type": "code",
   "execution_count": 3,
   "metadata": {},
   "outputs": [
    {
     "name": "stdout",
     "output_type": "stream",
     "text": [
      "['__add__', '__class__', '__class_getitem__', '__contains__', '__delattr__', '__delitem__', '__dir__', '__doc__', '__eq__', '__format__', '__ge__', '__getattribute__', '__getitem__', '__getstate__', '__gt__', '__hash__', '__iadd__', '__imul__', '__init__', '__init_subclass__', '__iter__', '__le__', '__len__', '__lt__', '__mul__', '__ne__', '__new__', '__reduce__', '__reduce_ex__', '__repr__', '__reversed__', '__rmul__', '__setattr__', '__setitem__', '__sizeof__', '__str__', '__subclasshook__', 'append', 'clear', 'copy', 'count', 'extend', 'index', 'insert', 'pop', 'remove', 'reverse', 'sort']\n"
     ]
    }
   ],
   "source": [
    "print(dir(fruits))"
   ]
  },
  {
   "cell_type": "markdown",
   "metadata": {},
   "source": [
    "## Dictionaries\n",
    "\n",
    "- Key-value-Mappings (vgl. mit Hashmaps)"
   ]
  }
 ],
 "metadata": {
  "kernelspec": {
   "display_name": "Python 3.11.0 ('.venv': pipenv)",
   "language": "python",
   "name": "python3"
  },
  "language_info": {
   "codemirror_mode": {
    "name": "ipython",
    "version": 3
   },
   "file_extension": ".py",
   "mimetype": "text/x-python",
   "name": "python",
   "nbconvert_exporter": "python",
   "pygments_lexer": "ipython3",
   "version": "3.11.0"
  },
  "orig_nbformat": 4,
  "vscode": {
   "interpreter": {
    "hash": "95b485297b53e9198539d3149b1263fa4116de0441108e5ccef43d18e05b9686"
   }
  }
 },
 "nbformat": 4,
 "nbformat_minor": 2
}
