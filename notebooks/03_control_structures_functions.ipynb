{
 "cells": [
  {
   "cell_type": "markdown",
   "metadata": {},
   "source": [
    "### Kontrollstrukturen"
   ]
  },
  {
   "cell_type": "markdown",
   "metadata": {},
   "source": [
    "### if / elif / else\n",
    "\n",
    "- In Python heißt \"else if\" elif\n",
    "- Wichtig: Kontrollblöcke werden in Python nicht mit Klammern gelöst, sondern durch Einrücken (Tab/Spaces)\n",
    "  \n",
    "- Boolesche Operatoren: \n",
    "  - `not` , `or` , `and` , `is`\n",
    "  - `==`, `!=`, `>`, `<` , `<=`, `>=`\n",
    "- "
   ]
  },
  {
   "cell_type": "markdown",
   "metadata": {},
   "source": [
    "### Schleifen\n",
    "- Python kennt for/while-Schleifen\n",
    "- In Python gibt es die \"klassische\" for-Schleife nicht*\n",
    "- Stattdessen wird eigentlich immer mit for __ in __ über Datenstruktur iterierte"
   ]
  },
  {
   "cell_type": "code",
   "execution_count": 1,
   "metadata": {},
   "outputs": [
    {
     "name": "stdout",
     "output_type": "stream",
     "text": [
      "0\n",
      "1\n",
      "2\n",
      "3\n",
      "4\n"
     ]
    }
   ],
   "source": [
    "i = 0\n",
    "while i < 5:\n",
    "    print(i)\n",
    "    i += 1"
   ]
  },
  {
   "cell_type": "code",
   "execution_count": 2,
   "metadata": {},
   "outputs": [
    {
     "name": "stdout",
     "output_type": "stream",
     "text": [
      "0\n",
      "1\n",
      "2\n",
      "3\n",
      "4\n"
     ]
    }
   ],
   "source": [
    "for i in range(5):\n",
    "    print(i)"
   ]
  }
 ],
 "metadata": {
  "kernelspec": {
   "display_name": "Python 3.9.1 ('.venv': pipenv)",
   "language": "python",
   "name": "python3"
  },
  "language_info": {
   "codemirror_mode": {
    "name": "ipython",
    "version": 3
   },
   "file_extension": ".py",
   "mimetype": "text/x-python",
   "name": "python",
   "nbconvert_exporter": "python",
   "pygments_lexer": "ipython3",
   "version": "3.11.0"
  },
  "orig_nbformat": 4,
  "vscode": {
   "interpreter": {
    "hash": "95b485297b53e9198539d3149b1263fa4116de0441108e5ccef43d18e05b9686"
   }
  }
 },
 "nbformat": 4,
 "nbformat_minor": 2
}
