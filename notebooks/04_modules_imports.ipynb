{
 "cells": [
  {
   "cell_type": "code",
   "execution_count": null,
   "metadata": {},
   "outputs": [],
   "source": [
    "%load_ext autoreload\n",
    "%autoreload 2"
   ]
  },
  {
   "cell_type": "markdown",
   "metadata": {
    "slideshow": {
     "slide_type": "slide"
    }
   },
   "source": [
    "## Imports / Modules / Packages\n",
    "\n",
    "\n",
    "\n",
    "- Um Code _von außerhalb_ in meinen Skripten zu nutzen, benötige ich das `import`-Statement.\n",
    "\n",
    "- Python zwischen __Modulen__ (~ einzelnen Dateien) und __Packages__ (~Verzeichnisse mit mehreren Modulen)\n",
    "\n",
    "_Zum Weiterlesen: [https://docs.python.org/3/tutorial/modules.html](https://docs.python.org/3/tutorial/modules.html)_\n",
    "\n"
   ]
  },
  {
   "cell_type": "markdown",
   "metadata": {
    "slideshow": {
     "slide_type": "subslide"
    }
   },
   "source": [
    "### Module\n",
    "\n",
    "- Jede Python-Datei (*.py) ist Skript & Modul zugleich -> direkt importierbar"
   ]
  },
  {
   "cell_type": "code",
   "execution_count": null,
   "metadata": {
    "slideshow": {
     "slide_type": "fragment"
    }
   },
   "outputs": [],
   "source": [
    "!ls\n",
    "#!cat greeter.py"
   ]
  },
  {
   "cell_type": "code",
   "execution_count": null,
   "metadata": {
    "slideshow": {
     "slide_type": "subslide"
    }
   },
   "outputs": [],
   "source": [
    "import greeter\n",
    "\n",
    "dir(greeter)\n",
    "greeter.greet_me(\"Philipp\",lang=\"turkish\")"
   ]
  },
  {
   "cell_type": "markdown",
   "metadata": {
    "slideshow": {
     "slide_type": "subslide"
    }
   },
   "source": [
    "## Module sind Skripte, Skripte sind Module\n",
    "\n",
    "- Jedes Modul lässt sich auch als Skript ausführen: `python <foo.py> <arguments>`\n",
    "- __name__ beinhaltet Namen des aktuellen Moduls/Skripts\n",
    "- Bei Ausführung als Skript wird `__name__ = __main__` gesetzt\n",
    "- In Python sieht die \"Main-Methode\" daher etwas _eigenwillig_ aus\n",
    "```python\n",
    "if __name__ == __main__:\n",
    "    ...\n",
    "```"
   ]
  },
  {
   "cell_type": "code",
   "execution_count": null,
   "metadata": {
    "slideshow": {
     "slide_type": "subslide"
    }
   },
   "outputs": [],
   "source": [
    "!cat greeter.py"
   ]
  },
  {
   "cell_type": "code",
   "execution_count": null,
   "metadata": {
    "slideshow": {
     "slide_type": "-"
    }
   },
   "outputs": [],
   "source": [
    "%run greeter.py"
   ]
  },
  {
   "cell_type": "markdown",
   "metadata": {
    "slideshow": {
     "slide_type": "subslide"
    }
   },
   "source": [
    "### Packages\n",
    "- Sammlung von Modulen innerhalb eines Ordners\n",
    "```\n",
    "foo/\n",
    "  __init__.py\n",
    "  a.py\n",
    "  b.py\n",
    "bar/\n",
    "  __init__.py\n",
    "  c.py\n",
    "```\n",
    "- Hilft dabei Projekt zu gliedern, Import dann über `foo.a`\n",
    "- Name des Packages = Name des überliegenden Ordners\n",
    "- Über __init__.py lässt sich steuern, was beim Import des Packages passiert\n",
    "    - Bleibt oft leer\n"
   ]
  },
  {
   "cell_type": "markdown",
   "metadata": {
    "slideshow": {
     "slide_type": "subslide"
    }
   },
   "source": [
    "\n",
    "### Import-Varianten\n",
    "\n",
    "``` python\n",
    "import datetime # Variante 1, sicherste Variante\n",
    "from datetime import datetime, timedelta # Variante 2, einzelne Funktionen/Methoden/Konstanten importieren\n",
    "from datetime import * # Variante 3, unsicher, sollte nicht genutzt werden\n",
    "```\n",
    "\n",
    "\n"
   ]
  },
  {
   "cell_type": "markdown",
   "metadata": {
    "slideshow": {
     "slide_type": "subslide"
    }
   },
   "source": [
    "### Was passiert beim Import?\n",
    "- Was passiert beim Import?\n",
    "  - Suche nach Modul (siehe \"Wo sucht Python nach Modulen?\")\n",
    "     - built-in Module (`sys.builtin_module_names`)\n",
    "     - `sys.path`\n",
    "       - Aktueller Ordner\n",
    "       - im Virtual Environment installierte Pakete\n",
    "  - Falls gefunden: Ergebnis der Suche wird an Namen im scope gebunden (Je nach Variante)"
   ]
  },
  {
   "cell_type": "markdown",
   "metadata": {
    "slideshow": {
     "slide_type": "subslide"
    }
   },
   "source": [
    "### Packages nachinstallieren\n",
    "\n",
    "- Third-party packages lassen sich über Paketmanager `pip` nachinstallieren\n",
    "  - pip nutzt `PyPI` (Python Package Index) oder eigene Package Repositories (z.B. mit [SonaType Nexus Repository](https://www.sonatype.com/products/nexus-repository))\n",
    "- Achtung: Darauf achten, in welchem Environment sich man gerade bewegt\n",
    "- Python hat einene _batteries included_-Ansatz, erstaunlich viel geht schon über die [Standard-Bibliothek](https://docs.python.org/3/library/)\n",
    "  "
   ]
  },
  {
   "cell_type": "markdown",
   "metadata": {
    "slideshow": {
     "slide_type": "subslide"
    }
   },
   "source": [
    "### `pip` cheatsheet\n",
    "\n",
    "- Pakete installieren: `pip install <package_1> <package_2> <package_3>`\n",
    "- Pakete aus requirements.txt installieren: `pip install -f requirements.txt`\n",
    "- Installierte Pakete auflisten: `pip list`\n",
    "- Installierte Paketabhängigkeiten in requirements.txt schreiben: `pip freeze > requirements.txt`"
   ]
  },
  {
   "cell_type": "markdown",
   "metadata": {
    "slideshow": {
     "slide_type": "subslide"
    }
   },
   "source": [
    "### Übungen\n",
    "\n",
    "1. Erstellt folgendes, kleines `util`-Package\n",
    "```\n",
    "util\\\n",
    "    __init__.py\n",
    "    generators.py\n",
    "    file_utils.py\n",
    "```\n",
    "\n",
    "- Schaut euch das Modul `generators.py` an und verschiebt sie in das erstellte `util`-Package\n",
    "    - Was macht die Funktion `files_with_dates` und wie kann ich sie benutzen?\n",
    "\n",
    "- Implementiert die Methoden in `file_utils.py` aus\n"
   ]
  }
 ],
 "metadata": {
  "celltoolbar": "Slideshow",
  "kernelspec": {
   "display_name": "Python 3 (ipykernel)",
   "language": "python",
   "name": "python3"
  },
  "language_info": {
   "codemirror_mode": {
    "name": "ipython",
    "version": 3
   },
   "file_extension": ".py",
   "mimetype": "text/x-python",
   "name": "python",
   "nbconvert_exporter": "python",
   "pygments_lexer": "ipython3",
   "version": "3.11.0"
  }
 },
 "nbformat": 4,
 "nbformat_minor": 2
}
