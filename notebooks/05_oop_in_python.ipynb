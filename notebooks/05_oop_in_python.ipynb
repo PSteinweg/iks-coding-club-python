{
 "cells": [
  {
   "cell_type": "markdown",
   "metadata": {
    "slideshow": {
     "slide_type": "slide"
    }
   },
   "source": [
    "# OOP in Python\n",
    "- Zum Nachlesen:\n",
    "    - [https://docs.python.org/3/tutorial/classes.html](https://docs.python.org/3/tutorial/classes.html)\n",
    "    - [https://realpython.com/python3-object-oriented-programming/](https://realpython.com/python3-object-oriented-programming/)"
   ]
  },
  {
   "cell_type": "markdown",
   "metadata": {
    "slideshow": {
     "slide_type": "subslide"
    }
   },
   "source": [
    "## Klassen\n",
    "\n",
    "- Mehrere Klassen in einem Modul sind kein Problem\n",
    "- Besonderheiten ggü. Java:\n",
    "  - Kein `private`, `public` etc. stattdessen -> _name mangling_\n",
    "  - `self` und `cls` statt `this`\n",
    "  - Klassen sind sehr _lose_\n",
    "      - Ich kann Methoden/Variablen zu jedem Zeitpunkt an Instanz anfügen"
   ]
  },
  {
   "cell_type": "markdown",
   "metadata": {
    "slideshow": {
     "slide_type": "subslide"
    }
   },
   "source": [
    "## Minimalbeispiel: Klasse"
   ]
  },
  {
   "cell_type": "code",
   "execution_count": null,
   "metadata": {
    "slideshow": {
     "slide_type": "-"
    }
   },
   "outputs": [],
   "source": [
    "class Pizza:\n",
    "    def __init__(self, radius, ingredients):\n",
    "        self.radius = radius\n",
    "        self.ingredients = ingredients"
   ]
  },
  {
   "cell_type": "code",
   "execution_count": 1,
   "metadata": {
    "slideshow": {
     "slide_type": "subslide"
    }
   },
   "outputs": [
    {
     "name": "stdout",
     "output_type": "stream",
     "text": [
      "<__main__.Pizza object at 0x0000018DEF707BD0> 26 ['ham', 'cheese']\n",
      "<__main__.Pizza object at 0x0000018DEF707F50> 26 ham, cheese\n"
     ]
    }
   ],
   "source": [
    "a_pizza = Pizza(26, [\"ham\",\"cheese\"])\n",
    "another_pizza = Pizza(\"26\", \"ham, cheese\")\n",
    "\n",
    "print(a_pizza,\n",
    "      a_pizza.radius, \n",
    "      a_pizza.ingredients)\n",
    "print(another_pizza,\n",
    "      another_pizza.radius, \n",
    "      another_pizza.ingredients)"
   ]
  },
  {
   "cell_type": "markdown",
   "metadata": {
    "slideshow": {
     "slide_type": "subslide"
    }
   },
   "source": [
    "## Dunder Methods\n",
    "\n",
    "\n",
    "- __D__ ouble __Under__ score\n",
    "- Python macht von diesen Methoden intern Gebrauch, z.B. bei Nutzung von Operatoren oder built-in-Methods wie `print()` oder `str()`\n",
    "- Verhalten lässt sich in Klasse überschreiben\n",
    "- [https://mathspp.com/blog/pydonts/dunder-methods#list-of-dunder-methods-and-their-interactions](Liste der Dundermethoden)\n",
    "- Zum Nachlesen: [https://mathspp.com/blog/pydonts/dunder-methods#list-of-dunder-methods-and-their-interactions]()"
   ]
  },
  {
   "cell_type": "code",
   "execution_count": 29,
   "metadata": {
    "slideshow": {
     "slide_type": "subslide"
    }
   },
   "outputs": [
    {
     "name": "stdout",
     "output_type": "stream",
     "text": [
      "A 26 cm pizza with the following ingredients: ham, cheese\n",
      "[<__main__.Pizza object at 0x0000018DEF7A8650>, <__main__.Pizza object at 0x0000018DEF7A8650>]\n"
     ]
    }
   ],
   "source": [
    "class Pizza:\n",
    "    def __init__(self, radius, ingredients):\n",
    "        self.radius = radius\n",
    "        self.ingredients = ingredients\n",
    "    \n",
    "    def __str__(self):\n",
    "        return f\"A {self.radius} cm pizza with the following ingredients: {', '.join(self.ingredients)}\"\n",
    "    \n",
    "    def __add__(self, other):\n",
    "        return [self, other]\n",
    "        \n",
    "    #def __repr__(self):\n",
    "    #    return f\"Pizza(radius={repr(self.radius)},ingredients={repr(self.ingredients)})\"\n",
    "    \n",
    "a_pizza = Pizza(26, [\"ham\",\"cheese\"])\n",
    "print(a_pizza)\n",
    "print(a_pizza + a_pizza)\n"
   ]
  },
  {
   "cell_type": "markdown",
   "metadata": {
    "slideshow": {
     "slide_type": "subslide"
    }
   },
   "source": [
    "## Name Mangling\n",
    "- In Python ist erstmal alles public\n",
    "- Attribute kann ich mit _attribute oder __attribute versehen\n",
    "    - Einfacher Unterstrich: Markierung als intern, Attribut immer noch so nutzbar\n",
    "    - Doppelter Unterstrich: Name des Attributs wird nach außen _gemangled_ (pseudo-private)"
   ]
  },
  {
   "cell_type": "code",
   "execution_count": 27,
   "metadata": {
    "slideshow": {
     "slide_type": "subslide"
    }
   },
   "outputs": [],
   "source": [
    "class Pizza:\n",
    "    __PRICE_PER_CM = 0.3\n",
    "    __PRICE_PER_INGREDIENT = .5\n",
    "    def __init__(self, radius, ingredients):\n",
    "        self.radius = radius\n",
    "        self.ingredients = ingredients\n",
    "        self.price = self._calculate_price()\n",
    "    \n",
    "    def __str__(self):\n",
    "        return f\"A {self.radius} cm pizza with the following ingredients: {', '.join(self.ingredients)} (price: {self.price})\"\n",
    "    \n",
    "    def __add__(self, other):\n",
    "        return [self, other]\n",
    "    \n",
    "    def _calculate_price(self):\n",
    "        return self.__PRICE_PER_CM * self.radius + self.__PRICE_PER_INGREDIENT * len(self.ingredients)"
   ]
  },
  {
   "cell_type": "code",
   "execution_count": 28,
   "metadata": {
    "slideshow": {
     "slide_type": "subslide"
    }
   },
   "outputs": [
    {
     "name": "stdout",
     "output_type": "stream",
     "text": [
      "A 26 cm pizza with the following ingredients: ham, cheese (price: 8.8)\n"
     ]
    }
   ],
   "source": [
    "a_pizza = Pizza(26, [\"ham\",\"cheese\"])\n",
    "print(a_pizza)\n",
    "#print(a_pizza._calculate_price())\n",
    "#print(a_pizza.__PRICE_PER_CM)\n",
    "#print(a_pizza.__PRICE_PER_INGREDIENT)\n",
    "#print(a_pizza._Pizza__PRICE_PER_INGREDIENT)"
   ]
  },
  {
   "cell_type": "markdown",
   "metadata": {
    "slideshow": {
     "slide_type": "subslide"
    }
   },
   "source": [
    "## Klassen / Statische Methoden\n",
    "\n",
    "- Lassen sich über decorator `@classmethod` bzw. `@staticmethod` lösen (beides built-ins)"
   ]
  },
  {
   "cell_type": "markdown",
   "metadata": {
    "slideshow": {
     "slide_type": "subslide"
    }
   },
   "source": [
    "### data classes (Python 3.7+)\n",
    "- Syntactic Sugar um Klassen zu definieren, inspiriert von der Bibliothek `attrs` -> vgl. mit Lombok\n",
    "- [https://docs.python.org/3/library/dataclasses.html](https://docs.python.org/3/library/dataclasses.html)"
   ]
  },
  {
   "cell_type": "code",
   "execution_count": 23,
   "metadata": {},
   "outputs": [
    {
     "name": "stdout",
     "output_type": "stream",
     "text": [
      "Pizza(radius=28, ingredients=['ham', 'cheese'], price=9.4)\n",
      "9.4\n"
     ]
    }
   ],
   "source": [
    "from typing import List\n",
    "from dataclasses import dataclass, field\n",
    "\n",
    "@dataclass\n",
    "class Pizza:\n",
    "    __PRICE_PER_CM = 0.3\n",
    "    __PRICE_PER_INGREDIENT = .5\n",
    "    radius: int\n",
    "    ingredients: List[str]\n",
    "    price: float = field(init=False)\n",
    "        \n",
    "    \n",
    "    def __post_init__(self):\n",
    "        self.price = self.calculate_price()\n",
    "        \n",
    "    def calculate_price(self):\n",
    "        return self.__PRICE_PER_CM * self.radius + self.__PRICE_PER_INGREDIENT * len(self.ingredients)\n",
    "        \n",
    "\n",
    "a_pizza = Pizza(28,[\"ham\",\"cheese\"])\n",
    "print(a_pizza)\n",
    "print(a_pizza.price)"
   ]
  },
  {
   "cell_type": "markdown",
   "metadata": {
    "slideshow": {
     "slide_type": "subslide"
    }
   },
   "source": [
    "## Weitere OOP-Konzepte\n",
    "\n",
    "- Nächster Termin.."
   ]
  },
  {
   "cell_type": "markdown",
   "metadata": {
    "slideshow": {
     "slide_type": "subslide"
    }
   },
   "source": [
    "## Übungen\n",
    "\n",
    "- Wir schreiben gemeinsam ein kleines `poker`-Package für die Variante Texas Holdem\n",
    "- Was benötigen wir grob?:\n",
    "    - `Card`: Eine Klasse um eine einzelne Spielkarte abzubilden (Bestehend aus `rank` (2-A) und `suit` (Spielfarbe))\n",
    "    - `HoldemHand`: Eine Starthand besteht aus genau 2 Karten\n",
    "    - `Deck`: Das eigentliche Kartendeck (52 Karten)\n",
    "    - `Game`: Eigentliche Spielrunde\n",
    "            - Anzahl der Spieler die beteiligt sind\n",
    "            - insgesamt 4 Spielrunden:\n",
    "                - preflop: Starthände werden an Spieler ausgeteilt\n",
    "                - flop: 3 Gemeinschaftskarten werden gelegt\n",
    "                - turn river: jeweils 1 Gemeinschaftskarte wird gelegt\n",
    "                - *showdown: Auswertung der Hände"
   ]
  },
  {
   "cell_type": "markdown",
   "metadata": {},
   "source": []
  }
 ],
 "metadata": {
  "celltoolbar": "Slideshow",
  "kernelspec": {
   "display_name": "Python 3 (ipykernel)",
   "language": "python",
   "name": "python3"
  },
  "language_info": {
   "codemirror_mode": {
    "name": "ipython",
    "version": 3
   },
   "file_extension": ".py",
   "mimetype": "text/x-python",
   "name": "python",
   "nbconvert_exporter": "python",
   "pygments_lexer": "ipython3",
   "version": "3.11.0"
  }
 },
 "nbformat": 4,
 "nbformat_minor": 2
}
