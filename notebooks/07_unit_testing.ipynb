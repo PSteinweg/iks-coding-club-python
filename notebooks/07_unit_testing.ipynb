{
 "cells": [
  {
   "cell_type": "markdown",
   "metadata": {
    "slideshow": {
     "slide_type": "slide"
    }
   },
   "source": [
    "# Unittesting in Python"
   ]
  },
  {
   "cell_type": "markdown",
   "metadata": {
    "slideshow": {
     "slide_type": "subslide"
    }
   },
   "source": [
    "# Welches Package?\n",
    "\n",
    "- unittest\n",
    "  - built-in Package\n",
    "  - test-Skripte haben viel Boilerplate\n",
    "  - kein Plugin-System\n",
    "- pytest\n",
    "  - Vorteile u.a:\n",
    "    - [Plugin-System](https://docs.pytest.org/en/7.1.x/reference/plugin_list.html), z.B. `pytest-cov` für Code Coverage\n",
    "\n",
    "Weitere Infos:\n",
    "- [https://www.fullstackpython.com/unit-testing.html](https://www.fullstackpython.com/unit-testing.html)\n",
    "- [https://realpython.com/pytest-python-testing/](https://www.fullstackpython.com/unit-testing.html)"
   ]
  },
  {
   "cell_type": "markdown",
   "metadata": {
    "slideshow": {
     "slide_type": "subslide"
    }
   },
   "source": [
    "### `unittest`\n",
    "\n",
    "```python\n",
    "# file: tests\\test_string_methods.py\n",
    "import unittest\n",
    "\n",
    "class TestStringMethods(unittest.TestCase):\n",
    "\n",
    "    def test_upper(self):\n",
    "        self.assertEqual('foo'.upper(), 'FOO')\n",
    "```\n",
    "### `pytest`\n",
    "```python\n",
    "# file: tests\\test_string_methods.py\n",
    "import pytest\n",
    "def test_upper():\n",
    "    assert 'foo'.upper() == 'FOO'\n",
    "```"
   ]
  },
  {
   "cell_type": "markdown",
   "metadata": {
    "slideshow": {
     "slide_type": "subslide"
    }
   },
   "source": [
    "# Minimales Setup in VS Code\n",
    "\n",
    "- Test Discovery\n",
    "- `pip install pytest-cov`, Coverage Gutters-Extension\n",
    "- Code Coverage anzeigen lassen / Report erzeugen"
   ]
  },
  {
   "cell_type": "markdown",
   "metadata": {
    "slideshow": {
     "slide_type": "subslide"
    }
   },
   "source": [
    "# Test Discovery in VSCode\n",
    "\n",
    "- Command Palette öffnen (`CTRL + ALT + P`) und Option `Python: Configure Tests` auswählen\n",
    "  - Als Framework `pytest` wählen\n",
    "  - Als Ordner `\".\" (Project Root)` auswählen\n",
    "  - Tests sollten dann im Testing-Tab sichtbar sein\n"
   ]
  },
  {
   "cell_type": "markdown",
   "metadata": {
    "slideshow": {
     "slide_type": "subslide"
    }
   },
   "source": [
    "## Test Coverage in VSCode\n",
    "- Python package `pytest-cov` installieren\n",
    "  - `pip install pytest-cov`\n",
    "- VSCode-Plugin `Coverage Gutters` installieren\n",
    "- `settings.json` fürs Testing anpassen, sodass im Root-Ordner ein `coverage.xml` erzeugt wird\n",
    "  - Diese wird von Plugin `\"Coverage Gutters\"` genutzt\n",
    "\n",
    "``` json\n",
    "# .. settings in settings.xml\n",
    "\"python.testing.pytestArgs\": [\n",
    "        \"-v\",\n",
    "        \"--cov\",\n",
    "        \"--cov-report=xml\",\n",
    "        \".\"\n",
    "    ],\n",
    "# .. settings in settings.xml\n",
    "```"
   ]
  }
 ],
 "metadata": {
  "celltoolbar": "Slideshow",
  "kernelspec": {
   "display_name": "Python 3 (ipykernel)",
   "language": "python",
   "name": "python3"
  },
  "language_info": {
   "codemirror_mode": {
    "name": "ipython",
    "version": 3
   },
   "file_extension": ".py",
   "mimetype": "text/x-python",
   "name": "python",
   "nbconvert_exporter": "python",
   "pygments_lexer": "ipython3",
   "version": "3.11.0"
  }
 },
 "nbformat": 4,
 "nbformat_minor": 2
}
