{
 "cells": [
  {
   "cell_type": "markdown",
   "id": "61e586f9",
   "metadata": {
    "slideshow": {
     "slide_type": "slide"
    }
   },
   "source": [
    "## Noch mehr Poker\n",
    "\n"
   ]
  },
  {
   "cell_type": "markdown",
   "id": "e0c4975e",
   "metadata": {
    "slideshow": {
     "slide_type": "subslide"
    }
   },
   "source": [
    "## Agenda\n",
    "\n",
    "- Datascience/KI-Themen für Codingclub Extended* Termin?\n",
    "- Pokerprojekt Nr. 2: Equity-Calculator / Odds-Helper für Texas Holdem"
   ]
  },
  {
   "cell_type": "markdown",
   "id": "75687700",
   "metadata": {
    "slideshow": {
     "slide_type": "subslide"
    }
   },
   "source": [
    "## Texas Holdem\n",
    "\n",
    "- Zusammenfassung Regeln:\n",
    "    - Jeder Spieler erhält 2 Startkarten\n",
    "    - Über 4 Setzrunden werden 5 sog. Community Cards ausgelegt, die jeder Spieler benutzen darf\n",
    "        - Flop: 3 Karten\n",
    "        - Turn: 1 Karte\n",
    "        - River: 1 Karte\n",
    "    - Alle Spieler basteln sich aus ihren 2 Startkarten und den Community Cards die stärkste \"Hand\" (genau 5 Karten)\n",
    "       \n",
    "- Stärke der Hände: https://upswingpoker.com/wp-content/uploads/2018/11/Hand-Rankings-Upswing-Poker.jpg\n",
    "- Video mit den Regeln: https://www.youtube.com/watch?v=GAoR9ji8D6A"
   ]
  },
  {
   "cell_type": "markdown",
   "id": "74b8adfb",
   "metadata": {
    "slideshow": {
     "slide_type": "subslide"
    }
   },
   "source": [
    "## Poker Equity - Beispiel\n",
    "\n",
    "<img src=\"./08_01_equity_table_example.PNG\" style=\"display: block;\n",
    "  margin-left: auto;\n",
    "  margin-right: auto;width:50%;\"/>\n",
    "\n",
    "- TV-Overlay zeigt:\n",
    "    - Gewinnchancen eines Spielers\n",
    "    - Karten, die dem aktuell schlechteren Spieler dabei helfen, eine bessere Hand zu machen!\n"
   ]
  },
  {
   "cell_type": "markdown",
   "id": "61919e41",
   "metadata": {
    "slideshow": {
     "slide_type": "subslide"
    }
   },
   "source": [
    "# Wie wird Equity berechnet?\n",
    "\n",
    "1. Exhaustive\n",
    "    - Auswertung durchläuft alle Möglichkeiten und bestimmt für jede Möglichkeit den Gewinner\n",
    "2. Monte-Carlo-Simulation\n",
    "    - Es werden N-mal (>> 1000) alle Gemeinschaftskarten ausgeteilt, für jeden Durchlauf wird der Gewinner bestimmt"
   ]
  },
  {
   "cell_type": "markdown",
   "id": "2e3edc20",
   "metadata": {
    "slideshow": {
     "slide_type": "subslide"
    }
   },
   "source": [
    "# Unser Projekt\n",
    "\n",
    "- Tool, welches das Overlay aus dem Screenshot (Equity der einzelnen Starthände & Outs) für die einzelnen Spieler in Textform erzeugt\n",
    "\n",
    "``` python\n",
    "Hand 1: AcJs (9,..%)\n",
    "Hand 2: KsKh (91, ..%)\n",
    "Board: Tc4hJd Jc\n",
    "Outs: [KdKcJhJc]\n",
    "```"
   ]
  },
  {
   "cell_type": "markdown",
   "id": "92a61b55",
   "metadata": {
    "slideshow": {
     "slide_type": "subslide"
    }
   },
   "source": [
    "# Brainstorming"
   ]
  },
  {
   "cell_type": "code",
   "execution_count": null,
   "id": "d299c37c",
   "metadata": {},
   "outputs": [],
   "source": []
  }
 ],
 "metadata": {
  "celltoolbar": "Slideshow",
  "kernelspec": {
   "display_name": "Python 3 (ipykernel)",
   "language": "python",
   "name": "python3"
  },
  "language_info": {
   "codemirror_mode": {
    "name": "ipython",
    "version": 3
   },
   "file_extension": ".py",
   "mimetype": "text/x-python",
   "name": "python",
   "nbconvert_exporter": "python",
   "pygments_lexer": "ipython3",
   "version": "3.11.0"
  }
 },
 "nbformat": 4,
 "nbformat_minor": 5
}
